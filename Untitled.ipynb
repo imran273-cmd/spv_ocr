{
 "cells": [
  {
   "cell_type": "code",
   "execution_count": 8,
   "id": "d50fa7f9-c4d2-4420-b308-e535415d409b",
   "metadata": {},
   "outputs": [
    {
     "name": "stdout",
     "output_type": "stream",
     "text": [
      "scrypt:32768:8:1$SkeqjrMs4bDs8Ra3$474ddb4e257b68218b130037e4d598843b08089d519f5735afbdf6c9930fb0766c14758742b926b33c842dd9ab67be71c4a50f7e1985c45cbf7124d3f01c9851\n"
     ]
    }
   ],
   "source": [
    "from werkzeug.security import generate_password_hash\n",
    "\n",
    "# Replace 'admin123' with the actual plain text password you want to hash\n",
    "hashed_password = generate_password_hash('Jakarta83')\n",
    "print(hashed_password)\n"
   ]
  },
  {
   "cell_type": "code",
   "execution_count": null,
   "id": "39f71cb0-3e48-4578-918f-f650ab9ac15b",
   "metadata": {},
   "outputs": [],
   "source": []
  }
 ],
 "metadata": {
  "kernelspec": {
   "display_name": "Python 3 (ipykernel)",
   "language": "python",
   "name": "python3"
  },
  "language_info": {
   "codemirror_mode": {
    "name": "ipython",
    "version": 3
   },
   "file_extension": ".py",
   "mimetype": "text/x-python",
   "name": "python",
   "nbconvert_exporter": "python",
   "pygments_lexer": "ipython3",
   "version": "3.10.6"
  }
 },
 "nbformat": 4,
 "nbformat_minor": 5
}
